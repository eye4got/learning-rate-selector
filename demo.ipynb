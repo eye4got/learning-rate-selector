{
 "cells": [
  {
   "cell_type": "code",
   "execution_count": 2,
   "metadata": {},
   "outputs": [],
   "source": [
    "import pandas as pd\n",
    "import numpy as np\n",
    "import seaborn as sns\n",
    "import matplotlib.pyplot as plt\n",
    "\n",
    "import logging\n",
    "\n",
    "import lr_selector"
   ]
  },
  {
   "cell_type": "code",
   "execution_count": null,
   "metadata": {},
   "outputs": [],
   "source": [
    "# Create training dataset to assess best learning rate\n",
    "if find_lr or find_lr_hist:\n",
    "    train_df, val_df = utils.split_train_val_dataframes(ts_df, val_period_dates[-1], val_period_duration, pred_col, all_vars, smoothing_period, smooth_suffix)\n",
    "    train_df[scaled_pred_col] = pred_col_scaler.fit_transform(train_df[[smoothed_pred_col]])\n",
    "    if past_cov_cols:\n",
    "        train_df[scaled_past_cov_cols] = past_cov_scaler.fit_transform(train_df[smoothed_past_cov_cols])\n",
    "    train = utils.create_datasets(train_df, region_ids, val_period_duration, input_size, horizon, all_scaled_vars, dtype, skip_rows=skip_rows, use_embedding=use_embedding)\n",
    "\n",
    "if find_lr_hist:\n",
    "    lr_suggestions = []\n",
    "    for ii in range(50):\n",
    "        logging.info(f'Scenario: {ii}')\n",
    "        model = utils.create_lstm_model(**model_params)\n",
    "        suggested_lr, _ = utils.select_learning_rate(model, train['X_ds'], train['Y_ts'], min_lr=1e-4, max_lr=30, max_loss=30, num_training=100, plot=False)\n",
    "        logging.info(f'Prev. LR: {suggested_lr}')\n",
    "        if suggested_lr > 0:\n",
    "            lr_suggestions.append(suggested_lr)\n",
    "        # clear_output()\n",
    "\n",
    "    logging.info(f'Suggested learning rate: {np.median(lr_suggestions)}')\n",
    "    sns.histplot(lr_suggestions, bins=10)"
   ]
  },
  {
   "cell_type": "code",
   "execution_count": null,
   "metadata": {},
   "outputs": [],
   "source": [
    "default_lr = 0.01\n",
    "\n",
    "if find_lr:\n",
    "    model = create_lstm_model(**model_params)\n",
    "    suggested_lr, history = utils.select_learning_rate(model, train['X_ds'], train['Y_ts'], default_lr=default_lr, min_lr=1e-3, max_lr=10, max_loss=4, num_training=400, plot=True)\n",
    "    logging.info(f'Learning Rate: {default_lr}')\n",
    "    logging.info(f'Suggested Rate: {suggested_lr}')\n",
    "\n",
    "model_params['lr'] = default_lr"
   ]
  }
 ],
 "metadata": {
  "kernelspec": {
   "display_name": "lr-selector",
   "language": "python",
   "name": "lr-selector"
  },
  "language_info": {
   "codemirror_mode": {
    "name": "ipython",
    "version": 3
   },
   "file_extension": ".py",
   "mimetype": "text/x-python",
   "name": "python",
   "nbconvert_exporter": "python",
   "pygments_lexer": "ipython3",
   "version": "3.11.9"
  }
 },
 "nbformat": 4,
 "nbformat_minor": 2
}
